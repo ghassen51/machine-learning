{
 "cells": [
  {
   "cell_type": "markdown",
   "metadata": {},
   "source": [
    "# <font color=black>Entrainer, régler et valider un algorithme de regression avec la bonne méthodologie </font>"
   ]
  },
  {
   "cell_type": "markdown",
   "metadata": {},
   "source": [
    "Pour ce Notebook, nous allons utiliser le célèbre jeu de données `BOSTON`. \n",
    "Il s’agit de prédire le prix de biens immobiliers en fonction d’informations concernant l’environnement. Il s’agit donc d’un problème de régression.\n",
    "Pour plus d'information : [boston](https://www.cs.toronto.edu/~delve/data/boston/bostonDetail.html)"
   ]
  },
  {
   "cell_type": "markdown",
   "metadata": {},
   "source": [
    "# <font color=blue>Entrainement et evaluation d'un modèle de regression </font>"
   ]
  },
  {
   "cell_type": "markdown",
   "metadata": {},
   "source": [
    "Pour commencer on doit  charger les bibliothèques necessaires:"
   ]
  },
  {
   "cell_type": "code",
   "execution_count": 2,
   "metadata": {},
   "outputs": [],
   "source": [
    "#Chargement des bibliothèques\n",
    "import numpy as np \n",
    "import pandas as pd \n",
    "import matplotlib.pyplot as plt "
   ]
  },
  {
   "cell_type": "code",
   "execution_count": 48,
   "metadata": {},
   "outputs": [],
   "source": [
    "boston=pd.read_csv('boston.csv')"
   ]
  },
  {
   "cell_type": "code",
   "execution_count": 5,
   "metadata": {},
   "outputs": [
    {
     "data": {
      "text/html": [
       "<div>\n",
       "<style scoped>\n",
       "    .dataframe tbody tr th:only-of-type {\n",
       "        vertical-align: middle;\n",
       "    }\n",
       "\n",
       "    .dataframe tbody tr th {\n",
       "        vertical-align: top;\n",
       "    }\n",
       "\n",
       "    .dataframe thead th {\n",
       "        text-align: right;\n",
       "    }\n",
       "</style>\n",
       "<table border=\"1\" class=\"dataframe\">\n",
       "  <thead>\n",
       "    <tr style=\"text-align: right;\">\n",
       "      <th></th>\n",
       "      <th>CRIM</th>\n",
       "      <th>ZN</th>\n",
       "      <th>INDUS</th>\n",
       "      <th>CHAS</th>\n",
       "      <th>NOX</th>\n",
       "      <th>RM</th>\n",
       "      <th>AGE</th>\n",
       "      <th>DIS</th>\n",
       "      <th>RAD</th>\n",
       "      <th>TAX</th>\n",
       "      <th>PTRATIO</th>\n",
       "      <th>LSTAT</th>\n",
       "      <th>MEDV</th>\n",
       "    </tr>\n",
       "  </thead>\n",
       "  <tbody>\n",
       "    <tr>\n",
       "      <th>0</th>\n",
       "      <td>0.00632</td>\n",
       "      <td>18.0</td>\n",
       "      <td>2.31</td>\n",
       "      <td>0</td>\n",
       "      <td>0.538</td>\n",
       "      <td>6.575</td>\n",
       "      <td>65.2</td>\n",
       "      <td>4.0900</td>\n",
       "      <td>1</td>\n",
       "      <td>296</td>\n",
       "      <td>15.3</td>\n",
       "      <td>4.98</td>\n",
       "      <td>24.0</td>\n",
       "    </tr>\n",
       "    <tr>\n",
       "      <th>1</th>\n",
       "      <td>0.02731</td>\n",
       "      <td>0.0</td>\n",
       "      <td>7.07</td>\n",
       "      <td>0</td>\n",
       "      <td>0.469</td>\n",
       "      <td>6.421</td>\n",
       "      <td>78.9</td>\n",
       "      <td>4.9671</td>\n",
       "      <td>2</td>\n",
       "      <td>242</td>\n",
       "      <td>17.8</td>\n",
       "      <td>9.14</td>\n",
       "      <td>21.6</td>\n",
       "    </tr>\n",
       "    <tr>\n",
       "      <th>2</th>\n",
       "      <td>0.02729</td>\n",
       "      <td>0.0</td>\n",
       "      <td>7.07</td>\n",
       "      <td>0</td>\n",
       "      <td>0.469</td>\n",
       "      <td>7.185</td>\n",
       "      <td>61.1</td>\n",
       "      <td>4.9671</td>\n",
       "      <td>2</td>\n",
       "      <td>242</td>\n",
       "      <td>17.8</td>\n",
       "      <td>4.03</td>\n",
       "      <td>34.7</td>\n",
       "    </tr>\n",
       "    <tr>\n",
       "      <th>3</th>\n",
       "      <td>0.03237</td>\n",
       "      <td>0.0</td>\n",
       "      <td>2.18</td>\n",
       "      <td>0</td>\n",
       "      <td>0.458</td>\n",
       "      <td>6.998</td>\n",
       "      <td>45.8</td>\n",
       "      <td>6.0622</td>\n",
       "      <td>3</td>\n",
       "      <td>222</td>\n",
       "      <td>18.7</td>\n",
       "      <td>2.94</td>\n",
       "      <td>33.4</td>\n",
       "    </tr>\n",
       "    <tr>\n",
       "      <th>4</th>\n",
       "      <td>0.06905</td>\n",
       "      <td>0.0</td>\n",
       "      <td>2.18</td>\n",
       "      <td>0</td>\n",
       "      <td>0.458</td>\n",
       "      <td>7.147</td>\n",
       "      <td>54.2</td>\n",
       "      <td>6.0622</td>\n",
       "      <td>3</td>\n",
       "      <td>222</td>\n",
       "      <td>18.7</td>\n",
       "      <td>5.33</td>\n",
       "      <td>36.2</td>\n",
       "    </tr>\n",
       "    <tr>\n",
       "      <th>...</th>\n",
       "      <td>...</td>\n",
       "      <td>...</td>\n",
       "      <td>...</td>\n",
       "      <td>...</td>\n",
       "      <td>...</td>\n",
       "      <td>...</td>\n",
       "      <td>...</td>\n",
       "      <td>...</td>\n",
       "      <td>...</td>\n",
       "      <td>...</td>\n",
       "      <td>...</td>\n",
       "      <td>...</td>\n",
       "      <td>...</td>\n",
       "    </tr>\n",
       "    <tr>\n",
       "      <th>501</th>\n",
       "      <td>0.06263</td>\n",
       "      <td>0.0</td>\n",
       "      <td>11.93</td>\n",
       "      <td>0</td>\n",
       "      <td>0.573</td>\n",
       "      <td>6.593</td>\n",
       "      <td>69.1</td>\n",
       "      <td>2.4786</td>\n",
       "      <td>1</td>\n",
       "      <td>273</td>\n",
       "      <td>21.0</td>\n",
       "      <td>9.67</td>\n",
       "      <td>22.4</td>\n",
       "    </tr>\n",
       "    <tr>\n",
       "      <th>502</th>\n",
       "      <td>0.04527</td>\n",
       "      <td>0.0</td>\n",
       "      <td>11.93</td>\n",
       "      <td>0</td>\n",
       "      <td>0.573</td>\n",
       "      <td>6.120</td>\n",
       "      <td>76.7</td>\n",
       "      <td>2.2875</td>\n",
       "      <td>1</td>\n",
       "      <td>273</td>\n",
       "      <td>21.0</td>\n",
       "      <td>9.08</td>\n",
       "      <td>20.6</td>\n",
       "    </tr>\n",
       "    <tr>\n",
       "      <th>503</th>\n",
       "      <td>0.06076</td>\n",
       "      <td>0.0</td>\n",
       "      <td>11.93</td>\n",
       "      <td>0</td>\n",
       "      <td>0.573</td>\n",
       "      <td>6.976</td>\n",
       "      <td>91.0</td>\n",
       "      <td>2.1675</td>\n",
       "      <td>1</td>\n",
       "      <td>273</td>\n",
       "      <td>21.0</td>\n",
       "      <td>5.64</td>\n",
       "      <td>23.9</td>\n",
       "    </tr>\n",
       "    <tr>\n",
       "      <th>504</th>\n",
       "      <td>0.10959</td>\n",
       "      <td>0.0</td>\n",
       "      <td>11.93</td>\n",
       "      <td>0</td>\n",
       "      <td>0.573</td>\n",
       "      <td>6.794</td>\n",
       "      <td>89.3</td>\n",
       "      <td>2.3889</td>\n",
       "      <td>1</td>\n",
       "      <td>273</td>\n",
       "      <td>21.0</td>\n",
       "      <td>6.48</td>\n",
       "      <td>22.0</td>\n",
       "    </tr>\n",
       "    <tr>\n",
       "      <th>505</th>\n",
       "      <td>0.04741</td>\n",
       "      <td>0.0</td>\n",
       "      <td>11.93</td>\n",
       "      <td>0</td>\n",
       "      <td>0.573</td>\n",
       "      <td>6.030</td>\n",
       "      <td>80.8</td>\n",
       "      <td>2.5050</td>\n",
       "      <td>1</td>\n",
       "      <td>273</td>\n",
       "      <td>21.0</td>\n",
       "      <td>7.88</td>\n",
       "      <td>11.9</td>\n",
       "    </tr>\n",
       "  </tbody>\n",
       "</table>\n",
       "<p>506 rows × 13 columns</p>\n",
       "</div>"
      ],
      "text/plain": [
       "        CRIM   ZN   INDUS   CHAS    NOX     RM   AGE     DIS  RAD  TAX  \\\n",
       "0    0.00632  18.0    2.31     0  0.538  6.575  65.2  4.0900    1  296   \n",
       "1    0.02731   0.0    7.07     0  0.469  6.421  78.9  4.9671    2  242   \n",
       "2    0.02729   0.0    7.07     0  0.469  7.185  61.1  4.9671    2  242   \n",
       "3    0.03237   0.0    2.18     0  0.458  6.998  45.8  6.0622    3  222   \n",
       "4    0.06905   0.0    2.18     0  0.458  7.147  54.2  6.0622    3  222   \n",
       "..       ...   ...     ...   ...    ...    ...   ...     ...  ...  ...   \n",
       "501  0.06263   0.0   11.93     0  0.573  6.593  69.1  2.4786    1  273   \n",
       "502  0.04527   0.0   11.93     0  0.573  6.120  76.7  2.2875    1  273   \n",
       "503  0.06076   0.0   11.93     0  0.573  6.976  91.0  2.1675    1  273   \n",
       "504  0.10959   0.0   11.93     0  0.573  6.794  89.3  2.3889    1  273   \n",
       "505  0.04741   0.0   11.93     0  0.573  6.030  80.8  2.5050    1  273   \n",
       "\n",
       "     PTRATIO  LSTAT  MEDV  \n",
       "0       15.3   4.98  24.0  \n",
       "1       17.8   9.14  21.6  \n",
       "2       17.8   4.03  34.7  \n",
       "3       18.7   2.94  33.4  \n",
       "4       18.7   5.33  36.2  \n",
       "..       ...    ...   ...  \n",
       "501     21.0   9.67  22.4  \n",
       "502     21.0   9.08  20.6  \n",
       "503     21.0   5.64  23.9  \n",
       "504     21.0   6.48  22.0  \n",
       "505     21.0   7.88  11.9  \n",
       "\n",
       "[506 rows x 13 columns]"
      ]
     },
     "execution_count": 5,
     "metadata": {},
     "output_type": "execute_result"
    }
   ],
   "source": [
    "boston"
   ]
  },
  {
   "cell_type": "code",
   "execution_count": null,
   "metadata": {},
   "outputs": [],
   "source": []
  },
  {
   "cell_type": "code",
   "execution_count": null,
   "metadata": {},
   "outputs": [],
   "source": []
  },
  {
   "cell_type": "code",
   "execution_count": 6,
   "metadata": {},
   "outputs": [
    {
     "data": {
      "text/plain": [
       "Index(['CRIM', ' ZN ', 'INDUS ', 'CHAS', 'NOX', 'RM', 'AGE', 'DIS', 'RAD',\n",
       "       'TAX', 'PTRATIO', 'LSTAT', 'MEDV'],\n",
       "      dtype='object')"
      ]
     },
     "execution_count": 6,
     "metadata": {},
     "output_type": "execute_result"
    }
   ],
   "source": [
    "# afficher les noms des variables (“feature”)\n",
    "boston.columns\n"
   ]
  },
  {
   "cell_type": "markdown",
   "metadata": {},
   "source": [
    "# Régression linéaire simple"
   ]
  },
  {
   "cell_type": "markdown",
   "metadata": {},
   "source": [
    "## $$f(X)=aX+b $$"
   ]
  },
  {
   "cell_type": "code",
   "execution_count": 7,
   "metadata": {},
   "outputs": [
    {
     "name": "stdout",
     "output_type": "stream",
     "text": [
      "(506, 1)\n",
      "(506, 1)\n"
     ]
    }
   ],
   "source": [
    "# Dans un premier temps on va essayer d'estimer le prix d'une maison \n",
    "#en utilisant une seule variable soit 'RM'\n",
    "x=boston[['RM']]\n",
    "y=boston[['MEDV']]\n",
    "print(x.shape)\n",
    "print(y.shape)"
   ]
  },
  {
   "cell_type": "markdown",
   "metadata": {},
   "source": [
    "Maintenant il est temps d’entrainer un modèle machine learning. Pour faire simple, nous allons commencer avec l'un des modèles de regression le plus simple, ici en occurence le LinearRegression. "
   ]
  },
  {
   "cell_type": "code",
   "execution_count": 30,
   "metadata": {},
   "outputs": [],
   "source": [
    "# chargement du modèle LinearRegression \n",
    "\n",
    "from sklearn.linear_model import LinearRegression"
   ]
  },
  {
   "cell_type": "code",
   "execution_count": 31,
   "metadata": {},
   "outputs": [],
   "source": [
    "from sklearn.model_selection import train_test_split\n",
    "x_train,x_test,y_train,y_test=train_test_split(x,y,test_size=0.2,random_state=4)"
   ]
  },
  {
   "cell_type": "markdown",
   "metadata": {},
   "source": [
    "### Créer une instance  `linreg1 ` de la classe  `LinearRegression `"
   ]
  },
  {
   "cell_type": "code",
   "execution_count": 12,
   "metadata": {},
   "outputs": [],
   "source": [
    "linreg1 =LinearRegression()"
   ]
  },
  {
   "cell_type": "markdown",
   "metadata": {},
   "source": [
    "### Entrainer  `linreg1 ` avec les sous-ensembles d'apprentissage puis caluler le test_score de  `linreg1 `"
   ]
  },
  {
   "cell_type": "code",
   "execution_count": 16,
   "metadata": {},
   "outputs": [
    {
     "name": "stdout",
     "output_type": "stream",
     "text": [
      "le score de test 44.43994949927361 %\n",
      "le score de train 49.25506855496909 %\n"
     ]
    },
    {
     "data": {
      "text/plain": [
       "<matplotlib.collections.PathCollection at 0x26bcc6a7a30>"
      ]
     },
     "execution_count": 16,
     "metadata": {},
     "output_type": "execute_result"
    },
    {
     "data": {
      "image/png": "[encoded data removed]",
      "text/plain": [
       "<Figure size 432x288 with 1 Axes>"
      ]
     },
     "metadata": {
      "needs_background": "light"
     },
     "output_type": "display_data"
    }
   ],
   "source": [
    "# Entrainer le modèle avec la méthode fit\n",
    "linreg1.fit(x_train,y_train)\n",
    "print('le score de test',linreg1.score(x_test,y_test)*100,\"%\")\n",
    "print('le score de train',linreg1.score(x_train,y_train)*100,\"%\")\n",
    "plt.scatter(x,y)\n"
   ]
  },
  {
   "cell_type": "markdown",
   "metadata": {},
   "source": [
    "### Aficcher l'intercept de `linreg1 `"
   ]
  },
  {
   "cell_type": "code",
   "execution_count": 17,
   "metadata": {},
   "outputs": [
    {
     "data": {
      "text/plain": [
       "array([-33.7350011])"
      ]
     },
     "execution_count": 17,
     "metadata": {},
     "output_type": "execute_result"
    }
   ],
   "source": [
    "linreg1.intercept_"
   ]
  },
  {
   "cell_type": "markdown",
   "metadata": {},
   "source": [
    "### Afficher les coefficients de `linreg1 `"
   ]
  },
  {
   "cell_type": "code",
   "execution_count": 18,
   "metadata": {},
   "outputs": [
    {
     "data": {
      "text/plain": [
       "array([[8.93363949]])"
      ]
     },
     "execution_count": 18,
     "metadata": {},
     "output_type": "execute_result"
    }
   ],
   "source": [
    "linreg1.coef_"
   ]
  },
  {
   "cell_type": "markdown",
   "metadata": {},
   "source": [
    "### Les metriques d'un algorithme de regression\n",
    "$$ R2 =1- \\frac{\\sum  (y_{vrai} - y_{pred} )^2}{\\sum  (y_{vrai} - \\overline{ y_{vrai}} )^2}  $$\n",
    "$$ MAE = \\frac{1}{m} \\sum \\lvert y_{vrai} - y_{pred} \\rvert $$\n",
    "$$ MSE = \\frac{1}{m} \\sum  (y_{vrai} - y_{pred} )^2 $$\n",
    "$$ RMSE = \\sqrt {\\frac{1}{m} \\sum  (y_{vrai} - y_{pred} )^2 }$$\n",
    "$$MedianAE =median{\\lvert y_{vrai} - y_{pred} \\rvert} $$"
   ]
  },
  {
   "cell_type": "code",
   "execution_count": 20,
   "metadata": {},
   "outputs": [
    {
     "name": "stdout",
     "output_type": "stream",
     "text": [
      "test_score =  0.4443994949927361\n",
      "R2 =  0.4443994949927361\n",
      "MSE =  51.60929995125552\n",
      "RMSE =  7.18396129939851\n",
      "MAE =  4.574004070859053\n",
      "Meadian =  2.438176577236251\n"
     ]
    }
   ],
   "source": [
    "from sklearn.metrics import mean_absolute_error, mean_squared_error, median_absolute_error, r2_score\n",
    "y_pred = linreg1.predict(x_test)\n",
    "print('test_score = ',linreg1.score(x_test,y_test)) \n",
    "print('R2 = ',r2_score(y_test, y_pred))\n",
    "print('MSE = ',mean_squared_error(y_test, y_pred))\n",
    "print('RMSE = ', np.sqrt(mean_squared_error(y_test, y_pred)))\n",
    "print('MAE = ', mean_absolute_error(y_test, y_pred))\n",
    "print('Meadian = ', median_absolute_error(y_test, y_pred))"
   ]
  },
  {
   "cell_type": "markdown",
   "metadata": {},
   "source": [
    "# Régression linéaire multiple"
   ]
  },
  {
   "cell_type": "markdown",
   "metadata": {},
   "source": [
    "## $$f(X_1,X_2,...)= a_0 + a_1*X_1 + a_2*X_2 + .... + a_{12}*X12$$"
   ]
  },
  {
   "cell_type": "code",
   "execution_count": 23,
   "metadata": {},
   "outputs": [
    {
     "name": "stdout",
     "output_type": "stream",
     "text": [
      "(506, 12)\n",
      "(506, 1)\n"
     ]
    }
   ],
   "source": [
    "x=boston.drop('MEDV',axis=1)\n",
    "y=boston[['MEDV']]\n",
    "print(x.shape)\n",
    "print(y.shape)\n",
    "x_train,x_test,y_train,y_test=train_test_split(x,y,test_size=0.2,random_state=4)"
   ]
  },
  {
   "cell_type": "markdown",
   "metadata": {},
   "source": [
    "### Régression linéaire multiple (toutes les variables de Boston)   avec les valeurs par defauts de `LinearRegression`"
   ]
  },
  {
   "cell_type": "code",
   "execution_count": 25,
   "metadata": {},
   "outputs": [
    {
     "name": "stdout",
     "output_type": "stream",
     "text": [
      "le score de test 71.80994994559333 %\n",
      "le score de train 73.57497242503399 %\n"
     ]
    }
   ],
   "source": [
    " #créer une instance\n",
    "###x.columns\n",
    "linreg2=LinearRegression()\n",
    "\n",
    " #entrainer le modèle\n",
    "linreg2.fit(x_train,y_train)\n",
    "print('le score de test',linreg2.score(x_test,y_test)*100,\"%\")\n",
    "print('le score de train',linreg2.score(x_train,y_train)*100,\"%\")\n"
   ]
  },
  {
   "cell_type": "markdown",
   "metadata": {},
   "source": [
    "### Régression linéaire multiple (toutes les variables de Boston)  avec `fit_intercept= False` et `normalize=True`"
   ]
  },
  {
   "cell_type": "code",
   "execution_count": 31,
   "metadata": {},
   "outputs": [
    {
     "name": "stdout",
     "output_type": "stream",
     "text": [
      "le score de test 67.91317160133855 %\n",
      "le score de train 69.76477467285143 %\n",
      "test_score =  0.6791317160133854\n",
      "R2 =  0.6791317160133854\n",
      "MSE =  29.805206013794617\n",
      "RMSE =  5.4594144387282615\n",
      "MAE =  3.379571800929954\n",
      "Meadian =  2.010562003511698\n"
     ]
    }
   ],
   "source": [
    "linreg3 = LinearRegression(fit_intercept= False, normalize=True)#normalize standarscaler(),fit intercept a0=0\n",
    "linreg3.fit(x_train,y_train)\n",
    "print('le score de test',linreg3.score(x_test,y_test)*100,\"%\")\n",
    "print('le score de train',linreg3.score(x_train,y_train)*100,\"%\")\n",
    "#LinearRegression?\n",
    "y_pred = linreg3.predict(x_test)\n",
    "print('test_score = ',linreg3.score(x_test,y_test)) \n",
    "print('R2 = ',r2_score(y_test, y_pred))\n",
    "print('MSE = ',mean_squared_error(y_test, y_pred))\n",
    "print('RMSE = ', np.sqrt(mean_squared_error(y_test, y_pred)))\n",
    "print('MAE = ', mean_absolute_error(y_test, y_pred))\n",
    "print('Meadian = ', median_absolute_error(y_test, y_pred))\n"
   ]
  },
  {
   "cell_type": "markdown",
   "metadata": {},
   "source": [
    "# Sélection de variables"
   ]
  },
  {
   "cell_type": "markdown",
   "metadata": {},
   "source": [
    "### Diviser la base de données en deux tableaux $X$ (tableau d'observations) et $y$ (la variable cible)"
   ]
  },
  {
   "cell_type": "code",
   "execution_count": 38,
   "metadata": {},
   "outputs": [
    {
     "name": "stdout",
     "output_type": "stream",
     "text": [
      "(506, 12)\n",
      "(506, 1)\n"
     ]
    }
   ],
   "source": [
    "# Define the X (input) and y (target) features\n",
    "x=boston.drop('MEDV',axis=1)\n",
    "y=boston[['MEDV']]\n",
    "print(x.shape)\n",
    "print(y.shape)\n",
    "x_train,x_test,y_train,y_test=train_test_split(x,y,test_size=0.2,random_state=4)\n"
   ]
  },
  {
   "cell_type": "markdown",
   "metadata": {},
   "source": [
    "## Normaliser $X$"
   ]
  },
  {
   "cell_type": "code",
   "execution_count": 49,
   "metadata": {},
   "outputs": [],
   "source": [
    "import pandas as pd\n",
    "from sklearn.preprocessing import MinMaxScaler, StandardScaler, RobustScaler\n",
    "from sklearn.model_selection import train_test_split"
   ]
  },
  {
   "cell_type": "code",
   "execution_count": 50,
   "metadata": {},
   "outputs": [
    {
     "data": {
      "text/html": [
       "<div>\n",
       "<style scoped>\n",
       "    .dataframe tbody tr th:only-of-type {\n",
       "        vertical-align: middle;\n",
       "    }\n",
       "\n",
       "    .dataframe tbody tr th {\n",
       "        vertical-align: top;\n",
       "    }\n",
       "\n",
       "    .dataframe thead th {\n",
       "        text-align: right;\n",
       "    }\n",
       "</style>\n",
       "<table border=\"1\" class=\"dataframe\">\n",
       "  <thead>\n",
       "    <tr style=\"text-align: right;\">\n",
       "      <th></th>\n",
       "      <th>CRIM</th>\n",
       "      <th>ZN</th>\n",
       "      <th>INDUS</th>\n",
       "      <th>CHAS</th>\n",
       "      <th>NOX</th>\n",
       "      <th>RM</th>\n",
       "      <th>AGE</th>\n",
       "      <th>DIS</th>\n",
       "      <th>RAD</th>\n",
       "      <th>TAX</th>\n",
       "      <th>PTRATIO</th>\n",
       "      <th>LSTAT</th>\n",
       "    </tr>\n",
       "  </thead>\n",
       "  <tbody>\n",
       "    <tr>\n",
       "      <th>0</th>\n",
       "      <td>-0.069593</td>\n",
       "      <td>1.44</td>\n",
       "      <td>-0.571650</td>\n",
       "      <td>0.0</td>\n",
       "      <td>0.000000</td>\n",
       "      <td>0.496612</td>\n",
       "      <td>-0.250765</td>\n",
       "      <td>0.285777</td>\n",
       "      <td>-0.20</td>\n",
       "      <td>-0.087855</td>\n",
       "      <td>-1.339286</td>\n",
       "      <td>-0.637681</td>\n",
       "    </tr>\n",
       "    <tr>\n",
       "      <th>1</th>\n",
       "      <td>-0.063755</td>\n",
       "      <td>0.00</td>\n",
       "      <td>-0.202943</td>\n",
       "      <td>0.0</td>\n",
       "      <td>-0.394286</td>\n",
       "      <td>0.287940</td>\n",
       "      <td>0.028542</td>\n",
       "      <td>0.569789</td>\n",
       "      <td>-0.15</td>\n",
       "      <td>-0.227390</td>\n",
       "      <td>-0.446429</td>\n",
       "      <td>-0.221889</td>\n",
       "    </tr>\n",
       "    <tr>\n",
       "      <th>2</th>\n",
       "      <td>-0.063760</td>\n",
       "      <td>0.00</td>\n",
       "      <td>-0.202943</td>\n",
       "      <td>0.0</td>\n",
       "      <td>-0.394286</td>\n",
       "      <td>1.323171</td>\n",
       "      <td>-0.334353</td>\n",
       "      <td>0.569789</td>\n",
       "      <td>-0.15</td>\n",
       "      <td>-0.227390</td>\n",
       "      <td>-0.446429</td>\n",
       "      <td>-0.732634</td>\n",
       "    </tr>\n",
       "    <tr>\n",
       "      <th>3</th>\n",
       "      <td>-0.062347</td>\n",
       "      <td>0.00</td>\n",
       "      <td>-0.581720</td>\n",
       "      <td>0.0</td>\n",
       "      <td>-0.457143</td>\n",
       "      <td>1.069783</td>\n",
       "      <td>-0.646279</td>\n",
       "      <td>0.924391</td>\n",
       "      <td>-0.10</td>\n",
       "      <td>-0.279070</td>\n",
       "      <td>-0.125000</td>\n",
       "      <td>-0.841579</td>\n",
       "    </tr>\n",
       "    <tr>\n",
       "      <th>4</th>\n",
       "      <td>-0.052144</td>\n",
       "      <td>0.00</td>\n",
       "      <td>-0.581720</td>\n",
       "      <td>0.0</td>\n",
       "      <td>-0.457143</td>\n",
       "      <td>1.271680</td>\n",
       "      <td>-0.475025</td>\n",
       "      <td>0.924391</td>\n",
       "      <td>-0.10</td>\n",
       "      <td>-0.279070</td>\n",
       "      <td>-0.125000</td>\n",
       "      <td>-0.602699</td>\n",
       "    </tr>\n",
       "  </tbody>\n",
       "</table>\n",
       "</div>"
      ],
      "text/plain": [
       "       CRIM   ZN     INDUS   CHAS       NOX        RM       AGE       DIS  \\\n",
       "0 -0.069593  1.44 -0.571650   0.0  0.000000  0.496612 -0.250765  0.285777   \n",
       "1 -0.063755  0.00 -0.202943   0.0 -0.394286  0.287940  0.028542  0.569789   \n",
       "2 -0.063760  0.00 -0.202943   0.0 -0.394286  1.323171 -0.334353  0.569789   \n",
       "3 -0.062347  0.00 -0.581720   0.0 -0.457143  1.069783 -0.646279  0.924391   \n",
       "4 -0.052144  0.00 -0.581720   0.0 -0.457143  1.271680 -0.475025  0.924391   \n",
       "\n",
       "    RAD       TAX   PTRATIO     LSTAT  \n",
       "0 -0.20 -0.087855 -1.339286 -0.637681  \n",
       "1 -0.15 -0.227390 -0.446429 -0.221889  \n",
       "2 -0.15 -0.227390 -0.446429 -0.732634  \n",
       "3 -0.10 -0.279070 -0.125000 -0.841579  \n",
       "4 -0.10 -0.279070 -0.125000 -0.602699  "
      ]
     },
     "execution_count": 50,
     "metadata": {},
     "output_type": "execute_result"
    }
   ],
   "source": [
    "#sc = MinMaxScaler()\n",
    "#sc = StandardScaler()\n",
    "sc = RobustScaler()\n",
    "X_sc = sc.fit_transform(x)\n",
    "X = pd.DataFrame(X_sc, columns=x.columns)\n",
    "X.head()"
   ]
  },
  {
   "cell_type": "code",
   "execution_count": 51,
   "metadata": {},
   "outputs": [
    {
     "data": {
      "image/png": "[encoded data removed]",
      "text/plain": [
       "<Figure size 720x360 with 1 Axes>"
      ]
     },
     "metadata": {
      "needs_background": "light"
     },
     "output_type": "display_data"
    }
   ],
   "source": [
    "import matplotlib.pyplot as plt\n",
    "plt.figure(figsize=(10,5))\n",
    "plt.plot(X)\n",
    "plt.legend(x.columns)\n",
    "plt.show()"
   ]
  },
  {
   "cell_type": "code",
   "execution_count": 52,
   "metadata": {},
   "outputs": [
    {
     "data": {
      "text/plain": [
       "CRIM       5.724612\n",
       " ZN        3.481196\n",
       "INDUS      0.282384\n",
       "CHAS       0.064513\n",
       "NOX        0.438453\n",
       "RM         0.906410\n",
       "AGE        0.329339\n",
       "DIS        0.464914\n",
       "RAD        0.189541\n",
       "TAX        0.189657\n",
       "PTRATIO    0.597830\n",
       "LSTAT      0.509438\n",
       "dtype: float64"
      ]
     },
     "execution_count": 52,
     "metadata": {},
     "output_type": "execute_result"
    }
   ],
   "source": [
    "# Variance de chaque variable\n",
    "X.var()"
   ]
  },
  {
   "cell_type": "code",
   "execution_count": 53,
   "metadata": {},
   "outputs": [],
   "source": [
    "#division X_train,X_test,y_train,y_test\n",
    "x_train,x_test,y_train,y_test=train_test_split(X,y,test_size=0.2,random_state=4)"
   ]
  },
  {
   "cell_type": "code",
   "execution_count": 54,
   "metadata": {},
   "outputs": [],
   "source": [
    " #Perform feature selection using a variance threshold\n",
    "#from sklearn.feature_selection import VarianceThreshold\n",
    "#VarianceThreshold?"
   ]
  },
  {
   "cell_type": "code",
   "execution_count": 55,
   "metadata": {},
   "outputs": [
    {
     "name": "stdout",
     "output_type": "stream",
     "text": [
      "Sélection de variables : [ True  True False False False  True False False False False  True  True]\n",
      "Variables sélectionnées : ['CRIM', ' ZN ', 'RM', 'PTRATIO', 'LSTAT']\n",
      "Variables supprimées : ['INDUS ', 'CHAS', 'NOX', 'AGE', 'DIS', 'RAD', 'TAX']\n"
     ]
    }
   ],
   "source": [
    "# Perform feature selection using a variance threshold\n",
    "from sklearn.feature_selection import VarianceThreshold\n",
    "\n",
    "sel = VarianceThreshold(threshold=(0.5))\n",
    "sel.fit(x_train)\n",
    "\n",
    "print(\"Sélection de variables :\", sel.get_support())\n",
    "print(\"Variables sélectionnées :\", list(X.columns[sel.get_support()]))\n",
    "print(\"Variables supprimées :\", list(X.columns[~sel.get_support()]))"
   ]
  },
  {
   "cell_type": "code",
   "execution_count": 56,
   "metadata": {},
   "outputs": [
    {
     "data": {
      "text/plain": [
       "LinearRegression()"
      ]
     },
     "execution_count": 56,
     "metadata": {},
     "output_type": "execute_result"
    }
   ],
   "source": [
    "# Suppression de variables à faible variance\n",
    "X_train = sel.transform(x_train)\n",
    "X_test = sel.transform(x_test)\n",
    "model = LinearRegression()\n",
    "model.fit(X_train, y_train)\n"
   ]
  },
  {
   "cell_type": "code",
   "execution_count": 57,
   "metadata": {},
   "outputs": [
    {
     "name": "stdout",
     "output_type": "stream",
     "text": [
      "test_score =  0.6748123792893399\n",
      "R2 =  0.6748123792893399\n",
      "MSE =  30.206425851740644\n",
      "RMSE =  5.4960372862400275\n",
      "MAE =  3.503958526400302\n",
      "Meadian =  2.3982011911682584\n"
     ]
    }
   ],
   "source": [
    "from sklearn.metrics import mean_absolute_error, mean_squared_error, median_absolute_error, r2_score\n",
    "y_pred = model.predict(X_test)\n",
    "print('test_score = ',model.score(X_test,y_test)) \n",
    "print('R2 = ',r2_score(y_test, y_pred))\n",
    "print('MSE = ',mean_squared_error(y_test, y_pred))\n",
    "print('RMSE = ', np.sqrt(mean_squared_error(y_test, y_pred)))\n",
    "print('MAE = ', mean_absolute_error(y_test, y_pred))\n",
    "print('Meadian = ', median_absolute_error(y_test, y_pred))"
   ]
  },
  {
   "cell_type": "markdown",
   "metadata": {},
   "source": [
    "## Selection de variables avec `SelectKBest`"
   ]
  },
  {
   "cell_type": "code",
   "execution_count": 18,
   "metadata": {},
   "outputs": [],
   "source": [
    "#division X_train,X_test,y_train,y_test"
   ]
  },
  {
   "cell_type": "code",
   "execution_count": 64,
   "metadata": {},
   "outputs": [
    {
     "name": "stdout",
     "output_type": "stream",
     "text": [
      "(506, 12)\n",
      "(506, 1)\n"
     ]
    },
    {
     "data": {
      "text/html": [
       "<div>\n",
       "<style scoped>\n",
       "    .dataframe tbody tr th:only-of-type {\n",
       "        vertical-align: middle;\n",
       "    }\n",
       "\n",
       "    .dataframe tbody tr th {\n",
       "        vertical-align: top;\n",
       "    }\n",
       "\n",
       "    .dataframe thead th {\n",
       "        text-align: right;\n",
       "    }\n",
       "</style>\n",
       "<table border=\"1\" class=\"dataframe\">\n",
       "  <thead>\n",
       "    <tr style=\"text-align: right;\">\n",
       "      <th></th>\n",
       "      <th>CRIM</th>\n",
       "      <th>ZN</th>\n",
       "      <th>INDUS</th>\n",
       "      <th>CHAS</th>\n",
       "      <th>NOX</th>\n",
       "      <th>RM</th>\n",
       "      <th>AGE</th>\n",
       "      <th>DIS</th>\n",
       "      <th>RAD</th>\n",
       "      <th>TAX</th>\n",
       "      <th>PTRATIO</th>\n",
       "      <th>LSTAT</th>\n",
       "    </tr>\n",
       "  </thead>\n",
       "  <tbody>\n",
       "    <tr>\n",
       "      <th>0</th>\n",
       "      <td>-0.419782</td>\n",
       "      <td>0.284830</td>\n",
       "      <td>-1.287909</td>\n",
       "      <td>-0.272599</td>\n",
       "      <td>-0.144217</td>\n",
       "      <td>0.413672</td>\n",
       "      <td>-0.120013</td>\n",
       "      <td>0.140214</td>\n",
       "      <td>-0.982843</td>\n",
       "      <td>-0.666608</td>\n",
       "      <td>-1.459000</td>\n",
       "      <td>-1.075562</td>\n",
       "    </tr>\n",
       "    <tr>\n",
       "      <th>1</th>\n",
       "      <td>-0.417339</td>\n",
       "      <td>-0.487722</td>\n",
       "      <td>-0.593381</td>\n",
       "      <td>-0.272599</td>\n",
       "      <td>-0.740262</td>\n",
       "      <td>0.194274</td>\n",
       "      <td>0.367166</td>\n",
       "      <td>0.557160</td>\n",
       "      <td>-0.867883</td>\n",
       "      <td>-0.987329</td>\n",
       "      <td>-0.303094</td>\n",
       "      <td>-0.492439</td>\n",
       "    </tr>\n",
       "    <tr>\n",
       "      <th>2</th>\n",
       "      <td>-0.417342</td>\n",
       "      <td>-0.487722</td>\n",
       "      <td>-0.593381</td>\n",
       "      <td>-0.272599</td>\n",
       "      <td>-0.740262</td>\n",
       "      <td>1.282714</td>\n",
       "      <td>-0.265812</td>\n",
       "      <td>0.557160</td>\n",
       "      <td>-0.867883</td>\n",
       "      <td>-0.987329</td>\n",
       "      <td>-0.303094</td>\n",
       "      <td>-1.208727</td>\n",
       "    </tr>\n",
       "    <tr>\n",
       "      <th>3</th>\n",
       "      <td>-0.416750</td>\n",
       "      <td>-0.487722</td>\n",
       "      <td>-1.306878</td>\n",
       "      <td>-0.272599</td>\n",
       "      <td>-0.835284</td>\n",
       "      <td>1.016303</td>\n",
       "      <td>-0.809889</td>\n",
       "      <td>1.077737</td>\n",
       "      <td>-0.752922</td>\n",
       "      <td>-1.106115</td>\n",
       "      <td>0.113032</td>\n",
       "      <td>-1.361517</td>\n",
       "    </tr>\n",
       "    <tr>\n",
       "      <th>4</th>\n",
       "      <td>-0.412482</td>\n",
       "      <td>-0.487722</td>\n",
       "      <td>-1.306878</td>\n",
       "      <td>-0.272599</td>\n",
       "      <td>-0.835284</td>\n",
       "      <td>1.228577</td>\n",
       "      <td>-0.511180</td>\n",
       "      <td>1.077737</td>\n",
       "      <td>-0.752922</td>\n",
       "      <td>-1.106115</td>\n",
       "      <td>0.113032</td>\n",
       "      <td>-1.026501</td>\n",
       "    </tr>\n",
       "  </tbody>\n",
       "</table>\n",
       "</div>"
      ],
      "text/plain": [
       "       CRIM       ZN     INDUS       CHAS       NOX        RM       AGE  \\\n",
       "0 -0.419782  0.284830 -1.287909 -0.272599 -0.144217  0.413672 -0.120013   \n",
       "1 -0.417339 -0.487722 -0.593381 -0.272599 -0.740262  0.194274  0.367166   \n",
       "2 -0.417342 -0.487722 -0.593381 -0.272599 -0.740262  1.282714 -0.265812   \n",
       "3 -0.416750 -0.487722 -1.306878 -0.272599 -0.835284  1.016303 -0.809889   \n",
       "4 -0.412482 -0.487722 -1.306878 -0.272599 -0.835284  1.228577 -0.511180   \n",
       "\n",
       "        DIS       RAD       TAX   PTRATIO     LSTAT  \n",
       "0  0.140214 -0.982843 -0.666608 -1.459000 -1.075562  \n",
       "1  0.557160 -0.867883 -0.987329 -0.303094 -0.492439  \n",
       "2  0.557160 -0.867883 -0.987329 -0.303094 -1.208727  \n",
       "3  1.077737 -0.752922 -1.106115  0.113032 -1.361517  \n",
       "4  1.077737 -0.752922 -1.106115  0.113032 -1.026501  "
      ]
     },
     "execution_count": 64,
     "metadata": {},
     "output_type": "execute_result"
    }
   ],
   "source": [
    "x=boston.drop('MEDV',axis=1)\n",
    "y=boston[['MEDV']]\n",
    "print(x.shape)\n",
    "print(y.shape)\n",
    "x_train,x_test,y_train,y_test=train_test_split(x,y,test_size=0.2,random_state=4)\n",
    "sc = StandardScaler()\n",
    "X_sc = sc.fit_transform(x)\n",
    "X = pd.DataFrame(X_sc, columns=x.columns)\n",
    "X.head()\n"
   ]
  },
  {
   "cell_type": "code",
   "execution_count": 65,
   "metadata": {},
   "outputs": [
    {
     "name": "stdout",
     "output_type": "stream",
     "text": [
      "Sélection de variables : [ True False  True False  True  True False False  True  True  True  True]\n",
      "Scores de variables : [ 79.65821839  51.3295589  129.48134206  17.31841687  89.04604138\n",
      " 390.19734573  64.13947456  26.27435426  82.45899189 132.93154423\n",
      " 143.25892109 462.17714276]\n",
      "Variables sélectionnées: ['CRIM', 'INDUS ', 'NOX', 'RM', 'RAD', 'TAX', 'PTRATIO', 'LSTAT']\n",
      "Variables supprimées : [' ZN ', 'CHAS', 'AGE', 'DIS']\n"
     ]
    },
    {
     "name": "stderr",
     "output_type": "stream",
     "text": [
      "C:\\Users\\alish\\anaconda3_new\\lib\\site-packages\\sklearn\\utils\\validation.py:63: DataConversionWarning: A column-vector y was passed when a 1d array was expected. Please change the shape of y to (n_samples, ), for example using ravel().\n",
      "  return f(*args, **kwargs)\n"
     ]
    }
   ],
   "source": [
    "from sklearn.feature_selection import SelectKBest\n",
    "from sklearn.feature_selection import f_classif      \n",
    "from sklearn.feature_selection import f_regression  \n",
    "\n",
    "kbest = SelectKBest(score_func=f_regression, k=8)\n",
    "kbest.fit(x_train, y_train)\n",
    "\n",
    "print(\"Sélection de variables :\", kbest.get_support())\n",
    "print(\"Scores de variables :\", kbest.scores_)\n",
    "print(\"Variables sélectionnées:\", list(x.columns[kbest.get_support()]))\n",
    "print(\"Variables supprimées :\", list(x.columns[~kbest.get_support()]))"
   ]
  },
  {
   "cell_type": "code",
   "execution_count": 68,
   "metadata": {},
   "outputs": [
    {
     "name": "stdout",
     "output_type": "stream",
     "text": [
      "test_score =  0.6855360292143352\n",
      "R2 =  0.6855360292143352\n",
      "MSE =  29.210314328148506\n",
      "RMSE =  5.404656726208289\n",
      "MAE =  3.4675282190254717\n",
      "Meadian =  2.3122288191583102\n"
     ]
    }
   ],
   "source": [
    "X_train = kbest.transform(x_train)\n",
    "X_test = kbest.transform(x_test)\n",
    "model = LinearRegression()\n",
    "model.fit(X_train, y_train)\n",
    "y_pred = model.predict(X_test)\n",
    "\n",
    "print('test_score = ',model.score(X_test,y_test)) \n",
    "print('R2 = ',r2_score(y_test, y_pred))\n",
    "print('MSE = ',mean_squared_error(y_test, y_pred))\n",
    "print('RMSE = ', np.sqrt(mean_squared_error(y_test, y_pred)))\n",
    "print('MAE = ', mean_absolute_error(y_test, y_pred))\n",
    "print('Meadian = ', median_absolute_error(y_test, y_pred))\n",
    "\n"
   ]
  },
  {
   "cell_type": "markdown",
   "metadata": {},
   "source": [
    "## Supprimer les variables fortement corrélées"
   ]
  },
  {
   "cell_type": "code",
   "execution_count": 69,
   "metadata": {},
   "outputs": [
    {
     "name": "stdout",
     "output_type": "stream",
     "text": [
      "(506, 12)\n",
      "(506, 1)\n"
     ]
    },
    {
     "data": {
      "text/html": [
       "<div>\n",
       "<style scoped>\n",
       "    .dataframe tbody tr th:only-of-type {\n",
       "        vertical-align: middle;\n",
       "    }\n",
       "\n",
       "    .dataframe tbody tr th {\n",
       "        vertical-align: top;\n",
       "    }\n",
       "\n",
       "    .dataframe thead th {\n",
       "        text-align: right;\n",
       "    }\n",
       "</style>\n",
       "<table border=\"1\" class=\"dataframe\">\n",
       "  <thead>\n",
       "    <tr style=\"text-align: right;\">\n",
       "      <th></th>\n",
       "      <th>CRIM</th>\n",
       "      <th>ZN</th>\n",
       "      <th>INDUS</th>\n",
       "      <th>CHAS</th>\n",
       "      <th>NOX</th>\n",
       "      <th>RM</th>\n",
       "      <th>AGE</th>\n",
       "      <th>DIS</th>\n",
       "      <th>RAD</th>\n",
       "      <th>TAX</th>\n",
       "      <th>PTRATIO</th>\n",
       "      <th>LSTAT</th>\n",
       "    </tr>\n",
       "  </thead>\n",
       "  <tbody>\n",
       "    <tr>\n",
       "      <th>0</th>\n",
       "      <td>-0.419782</td>\n",
       "      <td>0.284830</td>\n",
       "      <td>-1.287909</td>\n",
       "      <td>-0.272599</td>\n",
       "      <td>-0.144217</td>\n",
       "      <td>0.413672</td>\n",
       "      <td>-0.120013</td>\n",
       "      <td>0.140214</td>\n",
       "      <td>-0.982843</td>\n",
       "      <td>-0.666608</td>\n",
       "      <td>-1.459000</td>\n",
       "      <td>-1.075562</td>\n",
       "    </tr>\n",
       "    <tr>\n",
       "      <th>1</th>\n",
       "      <td>-0.417339</td>\n",
       "      <td>-0.487722</td>\n",
       "      <td>-0.593381</td>\n",
       "      <td>-0.272599</td>\n",
       "      <td>-0.740262</td>\n",
       "      <td>0.194274</td>\n",
       "      <td>0.367166</td>\n",
       "      <td>0.557160</td>\n",
       "      <td>-0.867883</td>\n",
       "      <td>-0.987329</td>\n",
       "      <td>-0.303094</td>\n",
       "      <td>-0.492439</td>\n",
       "    </tr>\n",
       "    <tr>\n",
       "      <th>2</th>\n",
       "      <td>-0.417342</td>\n",
       "      <td>-0.487722</td>\n",
       "      <td>-0.593381</td>\n",
       "      <td>-0.272599</td>\n",
       "      <td>-0.740262</td>\n",
       "      <td>1.282714</td>\n",
       "      <td>-0.265812</td>\n",
       "      <td>0.557160</td>\n",
       "      <td>-0.867883</td>\n",
       "      <td>-0.987329</td>\n",
       "      <td>-0.303094</td>\n",
       "      <td>-1.208727</td>\n",
       "    </tr>\n",
       "    <tr>\n",
       "      <th>3</th>\n",
       "      <td>-0.416750</td>\n",
       "      <td>-0.487722</td>\n",
       "      <td>-1.306878</td>\n",
       "      <td>-0.272599</td>\n",
       "      <td>-0.835284</td>\n",
       "      <td>1.016303</td>\n",
       "      <td>-0.809889</td>\n",
       "      <td>1.077737</td>\n",
       "      <td>-0.752922</td>\n",
       "      <td>-1.106115</td>\n",
       "      <td>0.113032</td>\n",
       "      <td>-1.361517</td>\n",
       "    </tr>\n",
       "    <tr>\n",
       "      <th>4</th>\n",
       "      <td>-0.412482</td>\n",
       "      <td>-0.487722</td>\n",
       "      <td>-1.306878</td>\n",
       "      <td>-0.272599</td>\n",
       "      <td>-0.835284</td>\n",
       "      <td>1.228577</td>\n",
       "      <td>-0.511180</td>\n",
       "      <td>1.077737</td>\n",
       "      <td>-0.752922</td>\n",
       "      <td>-1.106115</td>\n",
       "      <td>0.113032</td>\n",
       "      <td>-1.026501</td>\n",
       "    </tr>\n",
       "  </tbody>\n",
       "</table>\n",
       "</div>"
      ],
      "text/plain": [
       "       CRIM       ZN     INDUS       CHAS       NOX        RM       AGE  \\\n",
       "0 -0.419782  0.284830 -1.287909 -0.272599 -0.144217  0.413672 -0.120013   \n",
       "1 -0.417339 -0.487722 -0.593381 -0.272599 -0.740262  0.194274  0.367166   \n",
       "2 -0.417342 -0.487722 -0.593381 -0.272599 -0.740262  1.282714 -0.265812   \n",
       "3 -0.416750 -0.487722 -1.306878 -0.272599 -0.835284  1.016303 -0.809889   \n",
       "4 -0.412482 -0.487722 -1.306878 -0.272599 -0.835284  1.228577 -0.511180   \n",
       "\n",
       "        DIS       RAD       TAX   PTRATIO     LSTAT  \n",
       "0  0.140214 -0.982843 -0.666608 -1.459000 -1.075562  \n",
       "1  0.557160 -0.867883 -0.987329 -0.303094 -0.492439  \n",
       "2  0.557160 -0.867883 -0.987329 -0.303094 -1.208727  \n",
       "3  1.077737 -0.752922 -1.106115  0.113032 -1.361517  \n",
       "4  1.077737 -0.752922 -1.106115  0.113032 -1.026501  "
      ]
     },
     "execution_count": 69,
     "metadata": {},
     "output_type": "execute_result"
    }
   ],
   "source": [
    "#division X_train,X_test,y_train,y_test\n",
    "x=boston.drop('MEDV',axis=1)\n",
    "y=boston[['MEDV']]\n",
    "print(x.shape)\n",
    "print(y.shape)\n",
    "x_train,x_test,y_train,y_test=train_test_split(x,y,test_size=0.2,random_state=4)\n",
    "sc = StandardScaler()\n",
    "X_sc = sc.fit_transform(x)\n",
    "X = pd.DataFrame(X_sc, columns=x.columns)\n",
    "X.head()\n"
   ]
  },
  {
   "cell_type": "code",
   "execution_count": 78,
   "metadata": {},
   "outputs": [
    {
     "data": {
      "text/html": [
       "<div>\n",
       "<style scoped>\n",
       "    .dataframe tbody tr th:only-of-type {\n",
       "        vertical-align: middle;\n",
       "    }\n",
       "\n",
       "    .dataframe tbody tr th {\n",
       "        vertical-align: top;\n",
       "    }\n",
       "\n",
       "    .dataframe thead th {\n",
       "        text-align: right;\n",
       "    }\n",
       "</style>\n",
       "<table border=\"1\" class=\"dataframe\">\n",
       "  <thead>\n",
       "    <tr style=\"text-align: right;\">\n",
       "      <th></th>\n",
       "      <th>CRIM</th>\n",
       "      <th>ZN</th>\n",
       "      <th>INDUS</th>\n",
       "      <th>CHAS</th>\n",
       "      <th>NOX</th>\n",
       "      <th>RM</th>\n",
       "      <th>AGE</th>\n",
       "      <th>DIS</th>\n",
       "      <th>RAD</th>\n",
       "      <th>TAX</th>\n",
       "      <th>PTRATIO</th>\n",
       "      <th>LSTAT</th>\n",
       "    </tr>\n",
       "  </thead>\n",
       "  <tbody>\n",
       "    <tr>\n",
       "      <th>CRIM</th>\n",
       "      <td>1.000000</td>\n",
       "      <td>-0.205195</td>\n",
       "      <td>0.426618</td>\n",
       "      <td>-0.045982</td>\n",
       "      <td>0.429440</td>\n",
       "      <td>-0.242419</td>\n",
       "      <td>0.363703</td>\n",
       "      <td>-0.391727</td>\n",
       "      <td>0.633948</td>\n",
       "      <td>0.591113</td>\n",
       "      <td>0.298431</td>\n",
       "      <td>0.482907</td>\n",
       "    </tr>\n",
       "    <tr>\n",
       "      <th>ZN</th>\n",
       "      <td>-0.205195</td>\n",
       "      <td>1.000000</td>\n",
       "      <td>-0.521041</td>\n",
       "      <td>-0.029101</td>\n",
       "      <td>-0.510986</td>\n",
       "      <td>0.284054</td>\n",
       "      <td>-0.562212</td>\n",
       "      <td>0.674285</td>\n",
       "      <td>-0.315041</td>\n",
       "      <td>-0.305830</td>\n",
       "      <td>-0.377158</td>\n",
       "      <td>-0.400026</td>\n",
       "    </tr>\n",
       "    <tr>\n",
       "      <th>INDUS</th>\n",
       "      <td>0.426618</td>\n",
       "      <td>-0.521041</td>\n",
       "      <td>1.000000</td>\n",
       "      <td>0.068194</td>\n",
       "      <td>0.766586</td>\n",
       "      <td>-0.381478</td>\n",
       "      <td>0.643167</td>\n",
       "      <td>-0.700065</td>\n",
       "      <td>0.620850</td>\n",
       "      <td>0.745065</td>\n",
       "      <td>0.379649</td>\n",
       "      <td>0.612088</td>\n",
       "    </tr>\n",
       "    <tr>\n",
       "      <th>CHAS</th>\n",
       "      <td>-0.045982</td>\n",
       "      <td>-0.029101</td>\n",
       "      <td>0.068194</td>\n",
       "      <td>1.000000</td>\n",
       "      <td>0.113718</td>\n",
       "      <td>0.147985</td>\n",
       "      <td>0.081803</td>\n",
       "      <td>-0.090187</td>\n",
       "      <td>0.017944</td>\n",
       "      <td>-0.010361</td>\n",
       "      <td>-0.118626</td>\n",
       "      <td>-0.077014</td>\n",
       "    </tr>\n",
       "    <tr>\n",
       "      <th>NOX</th>\n",
       "      <td>0.429440</td>\n",
       "      <td>-0.510986</td>\n",
       "      <td>0.766586</td>\n",
       "      <td>0.113718</td>\n",
       "      <td>1.000000</td>\n",
       "      <td>-0.297498</td>\n",
       "      <td>0.732916</td>\n",
       "      <td>-0.769903</td>\n",
       "      <td>0.620102</td>\n",
       "      <td>0.669589</td>\n",
       "      <td>0.186440</td>\n",
       "      <td>0.592362</td>\n",
       "    </tr>\n",
       "    <tr>\n",
       "      <th>RM</th>\n",
       "      <td>-0.242419</td>\n",
       "      <td>0.284054</td>\n",
       "      <td>-0.381478</td>\n",
       "      <td>0.147985</td>\n",
       "      <td>-0.297498</td>\n",
       "      <td>1.000000</td>\n",
       "      <td>-0.227922</td>\n",
       "      <td>0.195834</td>\n",
       "      <td>-0.240947</td>\n",
       "      <td>-0.314970</td>\n",
       "      <td>-0.351499</td>\n",
       "      <td>-0.619522</td>\n",
       "    </tr>\n",
       "    <tr>\n",
       "      <th>AGE</th>\n",
       "      <td>0.363703</td>\n",
       "      <td>-0.562212</td>\n",
       "      <td>0.643167</td>\n",
       "      <td>0.081803</td>\n",
       "      <td>0.732916</td>\n",
       "      <td>-0.227922</td>\n",
       "      <td>1.000000</td>\n",
       "      <td>-0.762096</td>\n",
       "      <td>0.462899</td>\n",
       "      <td>0.505121</td>\n",
       "      <td>0.249802</td>\n",
       "      <td>0.597940</td>\n",
       "    </tr>\n",
       "    <tr>\n",
       "      <th>DIS</th>\n",
       "      <td>-0.391727</td>\n",
       "      <td>0.674285</td>\n",
       "      <td>-0.700065</td>\n",
       "      <td>-0.090187</td>\n",
       "      <td>-0.769903</td>\n",
       "      <td>0.195834</td>\n",
       "      <td>-0.762096</td>\n",
       "      <td>1.000000</td>\n",
       "      <td>-0.501121</td>\n",
       "      <td>-0.531960</td>\n",
       "      <td>-0.215367</td>\n",
       "      <td>-0.510049</td>\n",
       "    </tr>\n",
       "    <tr>\n",
       "      <th>RAD</th>\n",
       "      <td>0.633948</td>\n",
       "      <td>-0.315041</td>\n",
       "      <td>0.620850</td>\n",
       "      <td>0.017944</td>\n",
       "      <td>0.620102</td>\n",
       "      <td>-0.240947</td>\n",
       "      <td>0.462899</td>\n",
       "      <td>-0.501121</td>\n",
       "      <td>1.000000</td>\n",
       "      <td>0.911198</td>\n",
       "      <td>0.473095</td>\n",
       "      <td>0.510711</td>\n",
       "    </tr>\n",
       "    <tr>\n",
       "      <th>TAX</th>\n",
       "      <td>0.591113</td>\n",
       "      <td>-0.305830</td>\n",
       "      <td>0.745065</td>\n",
       "      <td>-0.010361</td>\n",
       "      <td>0.669589</td>\n",
       "      <td>-0.314970</td>\n",
       "      <td>0.505121</td>\n",
       "      <td>-0.531960</td>\n",
       "      <td>0.911198</td>\n",
       "      <td>1.000000</td>\n",
       "      <td>0.462434</td>\n",
       "      <td>0.569035</td>\n",
       "    </tr>\n",
       "    <tr>\n",
       "      <th>PTRATIO</th>\n",
       "      <td>0.298431</td>\n",
       "      <td>-0.377158</td>\n",
       "      <td>0.379649</td>\n",
       "      <td>-0.118626</td>\n",
       "      <td>0.186440</td>\n",
       "      <td>-0.351499</td>\n",
       "      <td>0.249802</td>\n",
       "      <td>-0.215367</td>\n",
       "      <td>0.473095</td>\n",
       "      <td>0.462434</td>\n",
       "      <td>1.000000</td>\n",
       "      <td>0.378136</td>\n",
       "    </tr>\n",
       "    <tr>\n",
       "      <th>LSTAT</th>\n",
       "      <td>0.482907</td>\n",
       "      <td>-0.400026</td>\n",
       "      <td>0.612088</td>\n",
       "      <td>-0.077014</td>\n",
       "      <td>0.592362</td>\n",
       "      <td>-0.619522</td>\n",
       "      <td>0.597940</td>\n",
       "      <td>-0.510049</td>\n",
       "      <td>0.510711</td>\n",
       "      <td>0.569035</td>\n",
       "      <td>0.378136</td>\n",
       "      <td>1.000000</td>\n",
       "    </tr>\n",
       "  </tbody>\n",
       "</table>\n",
       "</div>"
      ],
      "text/plain": [
       "             CRIM       ZN     INDUS       CHAS       NOX        RM       AGE  \\\n",
       "CRIM     1.000000 -0.205195  0.426618 -0.045982  0.429440 -0.242419  0.363703   \n",
       " ZN     -0.205195  1.000000 -0.521041 -0.029101 -0.510986  0.284054 -0.562212   \n",
       "INDUS    0.426618 -0.521041  1.000000  0.068194  0.766586 -0.381478  0.643167   \n",
       "CHAS    -0.045982 -0.029101  0.068194  1.000000  0.113718  0.147985  0.081803   \n",
       "NOX      0.429440 -0.510986  0.766586  0.113718  1.000000 -0.297498  0.732916   \n",
       "RM      -0.242419  0.284054 -0.381478  0.147985 -0.297498  1.000000 -0.227922   \n",
       "AGE      0.363703 -0.562212  0.643167  0.081803  0.732916 -0.227922  1.000000   \n",
       "DIS     -0.391727  0.674285 -0.700065 -0.090187 -0.769903  0.195834 -0.762096   \n",
       "RAD      0.633948 -0.315041  0.620850  0.017944  0.620102 -0.240947  0.462899   \n",
       "TAX      0.591113 -0.305830  0.745065 -0.010361  0.669589 -0.314970  0.505121   \n",
       "PTRATIO  0.298431 -0.377158  0.379649 -0.118626  0.186440 -0.351499  0.249802   \n",
       "LSTAT    0.482907 -0.400026  0.612088 -0.077014  0.592362 -0.619522  0.597940   \n",
       "\n",
       "              DIS       RAD       TAX   PTRATIO     LSTAT  \n",
       "CRIM    -0.391727  0.633948  0.591113  0.298431  0.482907  \n",
       " ZN      0.674285 -0.315041 -0.305830 -0.377158 -0.400026  \n",
       "INDUS   -0.700065  0.620850  0.745065  0.379649  0.612088  \n",
       "CHAS    -0.090187  0.017944 -0.010361 -0.118626 -0.077014  \n",
       "NOX     -0.769903  0.620102  0.669589  0.186440  0.592362  \n",
       "RM       0.195834 -0.240947 -0.314970 -0.351499 -0.619522  \n",
       "AGE     -0.762096  0.462899  0.505121  0.249802  0.597940  \n",
       "DIS      1.000000 -0.501121 -0.531960 -0.215367 -0.510049  \n",
       "RAD     -0.501121  1.000000  0.911198  0.473095  0.510711  \n",
       "TAX     -0.531960  0.911198  1.000000  0.462434  0.569035  \n",
       "PTRATIO -0.215367  0.473095  0.462434  1.000000  0.378136  \n",
       "LSTAT   -0.510049  0.510711  0.569035  0.378136  1.000000  "
      ]
     },
     "execution_count": 78,
     "metadata": {},
     "output_type": "execute_result"
    }
   ],
   "source": [
    "x_train.corr()"
   ]
  },
  {
   "cell_type": "code",
   "execution_count": 79,
   "metadata": {},
   "outputs": [],
   "source": [
    "def correlatedFeatures(dataset, threshold):\n",
    "    correlated_columns = set()\n",
    "    correlations = dataset.corr()\n",
    "    for i in range(len(correlations)):\n",
    "        for j in range(i):\n",
    "            if abs(correlations.iloc[i,j]) > threshold:\n",
    "                correlated_columns.add(correlations.columns[i])\n",
    "    return correlated_columns"
   ]
  },
  {
   "cell_type": "code",
   "execution_count": 80,
   "metadata": {},
   "outputs": [
    {
     "data": {
      "text/plain": [
       "{'AGE', 'DIS', 'NOX', 'TAX'}"
      ]
     },
     "execution_count": 80,
     "metadata": {},
     "output_type": "execute_result"
    }
   ],
   "source": [
    "cf = correlatedFeatures(x_train, 0.7)\n",
    "cf"
   ]
  },
  {
   "cell_type": "code",
   "execution_count": 82,
   "metadata": {},
   "outputs": [
    {
     "name": "stdout",
     "output_type": "stream",
     "text": [
      "(404, 8)\n",
      "(102, 8)\n"
     ]
    }
   ],
   "source": [
    "X_train = x_train.drop(cf, axis=1)\n",
    "X_test = x_test.drop(cf, axis=1)\n",
    "print(X_train.shape)\n",
    "print(X_test.shape)"
   ]
  },
  {
   "cell_type": "code",
   "execution_count": 83,
   "metadata": {},
   "outputs": [
    {
     "name": "stdout",
     "output_type": "stream",
     "text": [
      "test_score =  0.6823678140975352\n",
      "R2 =  0.6823678140975352\n",
      "MSE =  29.504607372880162\n",
      "RMSE =  5.431814372093377\n",
      "MAE =  3.5570565918714605\n",
      "Meadian =  2.3354758107277824\n"
     ]
    }
   ],
   "source": [
    "\n",
    "model = LinearRegression()\n",
    "model.fit(X_train, y_train)\n",
    "y_pred = model.predict(X_test)\n",
    "print('test_score = ',model.score(X_test,y_test)) \n",
    "print('R2 = ',r2_score(y_test, y_pred))\n",
    "print('MSE = ',mean_squared_error(y_test, y_pred))\n",
    "print('RMSE = ', np.sqrt(mean_squared_error(y_test, y_pred)))\n",
    "print('MAE = ', mean_absolute_error(y_test, y_pred))\n",
    "print('Meadian = ', median_absolute_error(y_test, y_pred))\n",
    "\n",
    "\n"
   ]
  },
  {
   "cell_type": "markdown",
   "metadata": {},
   "source": [
    "## Sélection de variables avec Recursive Feature Elimination (RFE)"
   ]
  },
  {
   "cell_type": "code",
   "execution_count": 30,
   "metadata": {},
   "outputs": [],
   "source": [
    "#division X_train,X_test,y_train,y_test"
   ]
  },
  {
   "cell_type": "code",
   "execution_count": 88,
   "metadata": {},
   "outputs": [
    {
     "name": "stdout",
     "output_type": "stream",
     "text": [
      "(506, 12)\n",
      "(506, 1)\n"
     ]
    },
    {
     "data": {
      "text/html": [
       "<div>\n",
       "<style scoped>\n",
       "    .dataframe tbody tr th:only-of-type {\n",
       "        vertical-align: middle;\n",
       "    }\n",
       "\n",
       "    .dataframe tbody tr th {\n",
       "        vertical-align: top;\n",
       "    }\n",
       "\n",
       "    .dataframe thead th {\n",
       "        text-align: right;\n",
       "    }\n",
       "</style>\n",
       "<table border=\"1\" class=\"dataframe\">\n",
       "  <thead>\n",
       "    <tr style=\"text-align: right;\">\n",
       "      <th></th>\n",
       "      <th>CRIM</th>\n",
       "      <th>ZN</th>\n",
       "      <th>INDUS</th>\n",
       "      <th>CHAS</th>\n",
       "      <th>NOX</th>\n",
       "      <th>RM</th>\n",
       "      <th>AGE</th>\n",
       "      <th>DIS</th>\n",
       "      <th>RAD</th>\n",
       "      <th>TAX</th>\n",
       "      <th>PTRATIO</th>\n",
       "      <th>LSTAT</th>\n",
       "    </tr>\n",
       "  </thead>\n",
       "  <tbody>\n",
       "    <tr>\n",
       "      <th>0</th>\n",
       "      <td>-0.419782</td>\n",
       "      <td>0.284830</td>\n",
       "      <td>-1.287909</td>\n",
       "      <td>-0.272599</td>\n",
       "      <td>-0.144217</td>\n",
       "      <td>0.413672</td>\n",
       "      <td>-0.120013</td>\n",
       "      <td>0.140214</td>\n",
       "      <td>-0.982843</td>\n",
       "      <td>-0.666608</td>\n",
       "      <td>-1.459000</td>\n",
       "      <td>-1.075562</td>\n",
       "    </tr>\n",
       "    <tr>\n",
       "      <th>1</th>\n",
       "      <td>-0.417339</td>\n",
       "      <td>-0.487722</td>\n",
       "      <td>-0.593381</td>\n",
       "      <td>-0.272599</td>\n",
       "      <td>-0.740262</td>\n",
       "      <td>0.194274</td>\n",
       "      <td>0.367166</td>\n",
       "      <td>0.557160</td>\n",
       "      <td>-0.867883</td>\n",
       "      <td>-0.987329</td>\n",
       "      <td>-0.303094</td>\n",
       "      <td>-0.492439</td>\n",
       "    </tr>\n",
       "    <tr>\n",
       "      <th>2</th>\n",
       "      <td>-0.417342</td>\n",
       "      <td>-0.487722</td>\n",
       "      <td>-0.593381</td>\n",
       "      <td>-0.272599</td>\n",
       "      <td>-0.740262</td>\n",
       "      <td>1.282714</td>\n",
       "      <td>-0.265812</td>\n",
       "      <td>0.557160</td>\n",
       "      <td>-0.867883</td>\n",
       "      <td>-0.987329</td>\n",
       "      <td>-0.303094</td>\n",
       "      <td>-1.208727</td>\n",
       "    </tr>\n",
       "    <tr>\n",
       "      <th>3</th>\n",
       "      <td>-0.416750</td>\n",
       "      <td>-0.487722</td>\n",
       "      <td>-1.306878</td>\n",
       "      <td>-0.272599</td>\n",
       "      <td>-0.835284</td>\n",
       "      <td>1.016303</td>\n",
       "      <td>-0.809889</td>\n",
       "      <td>1.077737</td>\n",
       "      <td>-0.752922</td>\n",
       "      <td>-1.106115</td>\n",
       "      <td>0.113032</td>\n",
       "      <td>-1.361517</td>\n",
       "    </tr>\n",
       "    <tr>\n",
       "      <th>4</th>\n",
       "      <td>-0.412482</td>\n",
       "      <td>-0.487722</td>\n",
       "      <td>-1.306878</td>\n",
       "      <td>-0.272599</td>\n",
       "      <td>-0.835284</td>\n",
       "      <td>1.228577</td>\n",
       "      <td>-0.511180</td>\n",
       "      <td>1.077737</td>\n",
       "      <td>-0.752922</td>\n",
       "      <td>-1.106115</td>\n",
       "      <td>0.113032</td>\n",
       "      <td>-1.026501</td>\n",
       "    </tr>\n",
       "  </tbody>\n",
       "</table>\n",
       "</div>"
      ],
      "text/plain": [
       "       CRIM       ZN     INDUS       CHAS       NOX        RM       AGE  \\\n",
       "0 -0.419782  0.284830 -1.287909 -0.272599 -0.144217  0.413672 -0.120013   \n",
       "1 -0.417339 -0.487722 -0.593381 -0.272599 -0.740262  0.194274  0.367166   \n",
       "2 -0.417342 -0.487722 -0.593381 -0.272599 -0.740262  1.282714 -0.265812   \n",
       "3 -0.416750 -0.487722 -1.306878 -0.272599 -0.835284  1.016303 -0.809889   \n",
       "4 -0.412482 -0.487722 -1.306878 -0.272599 -0.835284  1.228577 -0.511180   \n",
       "\n",
       "        DIS       RAD       TAX   PTRATIO     LSTAT  \n",
       "0  0.140214 -0.982843 -0.666608 -1.459000 -1.075562  \n",
       "1  0.557160 -0.867883 -0.987329 -0.303094 -0.492439  \n",
       "2  0.557160 -0.867883 -0.987329 -0.303094 -1.208727  \n",
       "3  1.077737 -0.752922 -1.106115  0.113032 -1.361517  \n",
       "4  1.077737 -0.752922 -1.106115  0.113032 -1.026501  "
      ]
     },
     "execution_count": 88,
     "metadata": {},
     "output_type": "execute_result"
    }
   ],
   "source": [
    "x=boston.drop('MEDV',axis=1)\n",
    "y=boston[['MEDV']]\n",
    "print(x.shape)\n",
    "print(y.shape)\n",
    "x_train,x_test,y_train,y_test=train_test_split(x,y,test_size=0.2,random_state=4)\n",
    "sc = StandardScaler()\n",
    "X_sc = sc.fit_transform(x)\n",
    "X = pd.DataFrame(X_sc, columns=x.columns)\n",
    "X.head()\n"
   ]
  },
  {
   "cell_type": "code",
   "execution_count": 90,
   "metadata": {},
   "outputs": [
    {
     "name": "stdout",
     "output_type": "stream",
     "text": [
      "Sélection de variables [ True False False  True  True  True False  True  True False  True  True]\n",
      "Classement de variables [1 2 5 1 1 1 4 1 1 3 1 1]\n",
      "Variables sélectionnées : ['CRIM', 'CHAS', 'NOX', 'RM', 'DIS', 'RAD', 'PTRATIO', 'LSTAT']\n"
     ]
    }
   ],
   "source": [
    "from sklearn.linear_model import LinearRegression\n",
    "from sklearn.feature_selection import RFE\n",
    "model = LinearRegression()\n",
    "rfe = RFE(model, n_features_to_select=8)\n",
    "rfe.fit(x_train, y_train)\n",
    "print(\"Sélection de variables\", rfe.support_)\n",
    "print(\"Classement de variables\", rfe.ranking_)\n",
    "print(\"Variables sélectionnées :\", list(x.columns[rfe.support_]))"
   ]
  },
  {
   "cell_type": "code",
   "execution_count": 92,
   "metadata": {},
   "outputs": [
    {
     "name": "stdout",
     "output_type": "stream",
     "text": [
      "(404, 8)\n",
      "(102, 8)\n"
     ]
    }
   ],
   "source": [
    "X_train = rfe.transform(x_train)\n",
    "X_test = rfe.transform(x_test)\n",
    "print(X_train.shape)\n",
    "print(X_test.shape)"
   ]
  },
  {
   "cell_type": "code",
   "execution_count": 93,
   "metadata": {},
   "outputs": [
    {
     "name": "stdout",
     "output_type": "stream",
     "text": [
      "test_score =  0.7164096172091483\n",
      "R2 =  0.7164096172091483\n",
      "MSE =  26.342490686816575\n",
      "RMSE =  5.132493612934805\n",
      "MAE =  3.4122240766956393\n",
      "Meadian =  2.4834411088594113\n"
     ]
    }
   ],
   "source": [
    "model = LinearRegression()\n",
    "model.fit(X_train, y_train)\n",
    "y_pred = model.predict(X_test)\n",
    "print('test_score = ',model.score(X_test,y_test)) \n",
    "print('R2 = ',r2_score(y_test, y_pred))\n",
    "print('MSE = ',mean_squared_error(y_test, y_pred))\n",
    "print('RMSE = ', np.sqrt(mean_squared_error(y_test, y_pred)))\n",
    "print('MAE = ', mean_absolute_error(y_test, y_pred))\n",
    "print('Meadian = ', median_absolute_error(y_test, y_pred))\n",
    "\n",
    "\n",
    "\n",
    "\n",
    "\n"
   ]
  },
  {
   "cell_type": "code",
   "execution_count": null,
   "metadata": {},
   "outputs": [],
   "source": []
  }
 ],
 "metadata": {
  "kernelspec": {
   "display_name": "Python 3",
   "language": "python",
   "name": "python3"
  },
  "language_info": {
   "codemirror_mode": {
    "name": "ipython",
    "version": 3
   },
   "file_extension": ".py",
   "mimetype": "text/x-python",
   "name": "python",
   "nbconvert_exporter": "python",
   "pygments_lexer": "ipython3",
   "version": "3.8.8"
  }
 },
 "nbformat": 4,
 "nbformat_minor": 4
}
